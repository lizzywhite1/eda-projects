{
 "cells": [
  {
   "cell_type": "code",
   "execution_count": 86,
   "id": "ee5e0b1c",
   "metadata": {},
   "outputs": [
    {
     "name": "stdout",
     "output_type": "stream",
     "text": [
      "Warning: Your Kaggle API key is readable by other users on this system! To fix this, you can run 'chmod 600 /Users/lizzywhite/.kaggle/kaggle.json'\n",
      "Dataset URL: https://www.kaggle.com/datasets/shrutimehta/zomato-restaurants-data\n"
     ]
    }
   ],
   "source": [
    "import kaggle\n",
    "\n",
    "kaggle.api.authenticate()\n",
    "\n",
    "kaggle.api.dataset_download_files('shrutimehta/zomato-restaurants-data', unzip = True, path ='.')"
   ]
  },
  {
   "cell_type": "code",
   "execution_count": 87,
   "id": "37b264da",
   "metadata": {},
   "outputs": [],
   "source": [
    "import pandas as pd \n",
    "import numpy as np \n",
    "import matplotlib.pyplot as plt \n",
    "import seaborn as sns \n",
    "import re \n",
    "%matplotlib inline"
   ]
  },
  {
   "cell_type": "code",
   "execution_count": 88,
   "id": "e5a11ba4",
   "metadata": {},
   "outputs": [],
   "source": [
    "df = pd.read_csv('zomato.csv', encoding='latin-1')"
   ]
  },
  {
   "cell_type": "code",
   "execution_count": 89,
   "id": "dd5b55cb",
   "metadata": {},
   "outputs": [
    {
     "data": {
      "text/html": [
       "<div>\n",
       "<style scoped>\n",
       "    .dataframe tbody tr th:only-of-type {\n",
       "        vertical-align: middle;\n",
       "    }\n",
       "\n",
       "    .dataframe tbody tr th {\n",
       "        vertical-align: top;\n",
       "    }\n",
       "\n",
       "    .dataframe thead th {\n",
       "        text-align: right;\n",
       "    }\n",
       "</style>\n",
       "<table border=\"1\" class=\"dataframe\">\n",
       "  <thead>\n",
       "    <tr style=\"text-align: right;\">\n",
       "      <th></th>\n",
       "      <th>Restaurant ID</th>\n",
       "      <th>Restaurant Name</th>\n",
       "      <th>Country Code</th>\n",
       "      <th>City</th>\n",
       "      <th>Address</th>\n",
       "      <th>Locality</th>\n",
       "      <th>Locality Verbose</th>\n",
       "      <th>Longitude</th>\n",
       "      <th>Latitude</th>\n",
       "      <th>Cuisines</th>\n",
       "      <th>Average Cost for two</th>\n",
       "      <th>Currency</th>\n",
       "      <th>Has Table booking</th>\n",
       "      <th>Has Online delivery</th>\n",
       "      <th>Is delivering now</th>\n",
       "      <th>Switch to order menu</th>\n",
       "      <th>Price range</th>\n",
       "      <th>Aggregate rating</th>\n",
       "      <th>Rating color</th>\n",
       "      <th>Rating text</th>\n",
       "      <th>Votes</th>\n",
       "    </tr>\n",
       "  </thead>\n",
       "  <tbody>\n",
       "    <tr>\n",
       "      <th>0</th>\n",
       "      <td>6317637</td>\n",
       "      <td>Le Petit Souffle</td>\n",
       "      <td>162</td>\n",
       "      <td>Makati City</td>\n",
       "      <td>Third Floor, Century City Mall, Kalayaan Avenu...</td>\n",
       "      <td>Century City Mall, Poblacion, Makati City</td>\n",
       "      <td>Century City Mall, Poblacion, Makati City, Mak...</td>\n",
       "      <td>121.027535</td>\n",
       "      <td>14.565443</td>\n",
       "      <td>French, Japanese, Desserts</td>\n",
       "      <td>1100</td>\n",
       "      <td>Botswana Pula(P)</td>\n",
       "      <td>Yes</td>\n",
       "      <td>No</td>\n",
       "      <td>No</td>\n",
       "      <td>No</td>\n",
       "      <td>3</td>\n",
       "      <td>4.8</td>\n",
       "      <td>Dark Green</td>\n",
       "      <td>Excellent</td>\n",
       "      <td>314</td>\n",
       "    </tr>\n",
       "    <tr>\n",
       "      <th>1</th>\n",
       "      <td>6304287</td>\n",
       "      <td>Izakaya Kikufuji</td>\n",
       "      <td>162</td>\n",
       "      <td>Makati City</td>\n",
       "      <td>Little Tokyo, 2277 Chino Roces Avenue, Legaspi...</td>\n",
       "      <td>Little Tokyo, Legaspi Village, Makati City</td>\n",
       "      <td>Little Tokyo, Legaspi Village, Makati City, Ma...</td>\n",
       "      <td>121.014101</td>\n",
       "      <td>14.553708</td>\n",
       "      <td>Japanese</td>\n",
       "      <td>1200</td>\n",
       "      <td>Botswana Pula(P)</td>\n",
       "      <td>Yes</td>\n",
       "      <td>No</td>\n",
       "      <td>No</td>\n",
       "      <td>No</td>\n",
       "      <td>3</td>\n",
       "      <td>4.5</td>\n",
       "      <td>Dark Green</td>\n",
       "      <td>Excellent</td>\n",
       "      <td>591</td>\n",
       "    </tr>\n",
       "    <tr>\n",
       "      <th>2</th>\n",
       "      <td>6300002</td>\n",
       "      <td>Heat - Edsa Shangri-La</td>\n",
       "      <td>162</td>\n",
       "      <td>Mandaluyong City</td>\n",
       "      <td>Edsa Shangri-La, 1 Garden Way, Ortigas, Mandal...</td>\n",
       "      <td>Edsa Shangri-La, Ortigas, Mandaluyong City</td>\n",
       "      <td>Edsa Shangri-La, Ortigas, Mandaluyong City, Ma...</td>\n",
       "      <td>121.056831</td>\n",
       "      <td>14.581404</td>\n",
       "      <td>Seafood, Asian, Filipino, Indian</td>\n",
       "      <td>4000</td>\n",
       "      <td>Botswana Pula(P)</td>\n",
       "      <td>Yes</td>\n",
       "      <td>No</td>\n",
       "      <td>No</td>\n",
       "      <td>No</td>\n",
       "      <td>4</td>\n",
       "      <td>4.4</td>\n",
       "      <td>Green</td>\n",
       "      <td>Very Good</td>\n",
       "      <td>270</td>\n",
       "    </tr>\n",
       "    <tr>\n",
       "      <th>3</th>\n",
       "      <td>6318506</td>\n",
       "      <td>Ooma</td>\n",
       "      <td>162</td>\n",
       "      <td>Mandaluyong City</td>\n",
       "      <td>Third Floor, Mega Fashion Hall, SM Megamall, O...</td>\n",
       "      <td>SM Megamall, Ortigas, Mandaluyong City</td>\n",
       "      <td>SM Megamall, Ortigas, Mandaluyong City, Mandal...</td>\n",
       "      <td>121.056475</td>\n",
       "      <td>14.585318</td>\n",
       "      <td>Japanese, Sushi</td>\n",
       "      <td>1500</td>\n",
       "      <td>Botswana Pula(P)</td>\n",
       "      <td>No</td>\n",
       "      <td>No</td>\n",
       "      <td>No</td>\n",
       "      <td>No</td>\n",
       "      <td>4</td>\n",
       "      <td>4.9</td>\n",
       "      <td>Dark Green</td>\n",
       "      <td>Excellent</td>\n",
       "      <td>365</td>\n",
       "    </tr>\n",
       "    <tr>\n",
       "      <th>4</th>\n",
       "      <td>6314302</td>\n",
       "      <td>Sambo Kojin</td>\n",
       "      <td>162</td>\n",
       "      <td>Mandaluyong City</td>\n",
       "      <td>Third Floor, Mega Atrium, SM Megamall, Ortigas...</td>\n",
       "      <td>SM Megamall, Ortigas, Mandaluyong City</td>\n",
       "      <td>SM Megamall, Ortigas, Mandaluyong City, Mandal...</td>\n",
       "      <td>121.057508</td>\n",
       "      <td>14.584450</td>\n",
       "      <td>Japanese, Korean</td>\n",
       "      <td>1500</td>\n",
       "      <td>Botswana Pula(P)</td>\n",
       "      <td>Yes</td>\n",
       "      <td>No</td>\n",
       "      <td>No</td>\n",
       "      <td>No</td>\n",
       "      <td>4</td>\n",
       "      <td>4.8</td>\n",
       "      <td>Dark Green</td>\n",
       "      <td>Excellent</td>\n",
       "      <td>229</td>\n",
       "    </tr>\n",
       "  </tbody>\n",
       "</table>\n",
       "</div>"
      ],
      "text/plain": [
       "   Restaurant ID         Restaurant Name  Country Code              City  \\\n",
       "0        6317637        Le Petit Souffle           162       Makati City   \n",
       "1        6304287        Izakaya Kikufuji           162       Makati City   \n",
       "2        6300002  Heat - Edsa Shangri-La           162  Mandaluyong City   \n",
       "3        6318506                    Ooma           162  Mandaluyong City   \n",
       "4        6314302             Sambo Kojin           162  Mandaluyong City   \n",
       "\n",
       "                                             Address  \\\n",
       "0  Third Floor, Century City Mall, Kalayaan Avenu...   \n",
       "1  Little Tokyo, 2277 Chino Roces Avenue, Legaspi...   \n",
       "2  Edsa Shangri-La, 1 Garden Way, Ortigas, Mandal...   \n",
       "3  Third Floor, Mega Fashion Hall, SM Megamall, O...   \n",
       "4  Third Floor, Mega Atrium, SM Megamall, Ortigas...   \n",
       "\n",
       "                                     Locality  \\\n",
       "0   Century City Mall, Poblacion, Makati City   \n",
       "1  Little Tokyo, Legaspi Village, Makati City   \n",
       "2  Edsa Shangri-La, Ortigas, Mandaluyong City   \n",
       "3      SM Megamall, Ortigas, Mandaluyong City   \n",
       "4      SM Megamall, Ortigas, Mandaluyong City   \n",
       "\n",
       "                                    Locality Verbose   Longitude   Latitude  \\\n",
       "0  Century City Mall, Poblacion, Makati City, Mak...  121.027535  14.565443   \n",
       "1  Little Tokyo, Legaspi Village, Makati City, Ma...  121.014101  14.553708   \n",
       "2  Edsa Shangri-La, Ortigas, Mandaluyong City, Ma...  121.056831  14.581404   \n",
       "3  SM Megamall, Ortigas, Mandaluyong City, Mandal...  121.056475  14.585318   \n",
       "4  SM Megamall, Ortigas, Mandaluyong City, Mandal...  121.057508  14.584450   \n",
       "\n",
       "                           Cuisines  Average Cost for two          Currency  \\\n",
       "0        French, Japanese, Desserts                  1100  Botswana Pula(P)   \n",
       "1                          Japanese                  1200  Botswana Pula(P)   \n",
       "2  Seafood, Asian, Filipino, Indian                  4000  Botswana Pula(P)   \n",
       "3                   Japanese, Sushi                  1500  Botswana Pula(P)   \n",
       "4                  Japanese, Korean                  1500  Botswana Pula(P)   \n",
       "\n",
       "  Has Table booking Has Online delivery Is delivering now  \\\n",
       "0               Yes                  No                No   \n",
       "1               Yes                  No                No   \n",
       "2               Yes                  No                No   \n",
       "3                No                  No                No   \n",
       "4               Yes                  No                No   \n",
       "\n",
       "  Switch to order menu  Price range  Aggregate rating Rating color  \\\n",
       "0                   No            3               4.8   Dark Green   \n",
       "1                   No            3               4.5   Dark Green   \n",
       "2                   No            4               4.4        Green   \n",
       "3                   No            4               4.9   Dark Green   \n",
       "4                   No            4               4.8   Dark Green   \n",
       "\n",
       "  Rating text  Votes  \n",
       "0   Excellent    314  \n",
       "1   Excellent    591  \n",
       "2   Very Good    270  \n",
       "3   Excellent    365  \n",
       "4   Excellent    229  "
      ]
     },
     "execution_count": 89,
     "metadata": {},
     "output_type": "execute_result"
    }
   ],
   "source": [
    "df.head()"
   ]
  },
  {
   "cell_type": "code",
   "execution_count": 90,
   "id": "b949c80b",
   "metadata": {},
   "outputs": [
    {
     "data": {
      "text/plain": [
       "Index(['Restaurant ID', 'Restaurant Name', 'Country Code', 'City', 'Address',\n",
       "       'Locality', 'Locality Verbose', 'Longitude', 'Latitude', 'Cuisines',\n",
       "       'Average Cost for two', 'Currency', 'Has Table booking',\n",
       "       'Has Online delivery', 'Is delivering now', 'Switch to order menu',\n",
       "       'Price range', 'Aggregate rating', 'Rating color', 'Rating text',\n",
       "       'Votes'],\n",
       "      dtype='object')"
      ]
     },
     "execution_count": 90,
     "metadata": {},
     "output_type": "execute_result"
    }
   ],
   "source": [
    "df.columns"
   ]
  },
  {
   "cell_type": "code",
   "execution_count": 91,
   "id": "e16983f9",
   "metadata": {},
   "outputs": [
    {
     "name": "stdout",
     "output_type": "stream",
     "text": [
      "<class 'pandas.core.frame.DataFrame'>\n",
      "RangeIndex: 9551 entries, 0 to 9550\n",
      "Data columns (total 21 columns):\n",
      " #   Column                Non-Null Count  Dtype  \n",
      "---  ------                --------------  -----  \n",
      " 0   Restaurant ID         9551 non-null   int64  \n",
      " 1   Restaurant Name       9551 non-null   object \n",
      " 2   Country Code          9551 non-null   int64  \n",
      " 3   City                  9551 non-null   object \n",
      " 4   Address               9551 non-null   object \n",
      " 5   Locality              9551 non-null   object \n",
      " 6   Locality Verbose      9551 non-null   object \n",
      " 7   Longitude             9551 non-null   float64\n",
      " 8   Latitude              9551 non-null   float64\n",
      " 9   Cuisines              9542 non-null   object \n",
      " 10  Average Cost for two  9551 non-null   int64  \n",
      " 11  Currency              9551 non-null   object \n",
      " 12  Has Table booking     9551 non-null   object \n",
      " 13  Has Online delivery   9551 non-null   object \n",
      " 14  Is delivering now     9551 non-null   object \n",
      " 15  Switch to order menu  9551 non-null   object \n",
      " 16  Price range           9551 non-null   int64  \n",
      " 17  Aggregate rating      9551 non-null   float64\n",
      " 18  Rating color          9551 non-null   object \n",
      " 19  Rating text           9551 non-null   object \n",
      " 20  Votes                 9551 non-null   int64  \n",
      "dtypes: float64(3), int64(5), object(13)\n",
      "memory usage: 1.5+ MB\n"
     ]
    }
   ],
   "source": [
    "df.info()"
   ]
  },
  {
   "cell_type": "code",
   "execution_count": 92,
   "id": "a7fe111c",
   "metadata": {},
   "outputs": [
    {
     "data": {
      "text/html": [
       "<div>\n",
       "<style scoped>\n",
       "    .dataframe tbody tr th:only-of-type {\n",
       "        vertical-align: middle;\n",
       "    }\n",
       "\n",
       "    .dataframe tbody tr th {\n",
       "        vertical-align: top;\n",
       "    }\n",
       "\n",
       "    .dataframe thead th {\n",
       "        text-align: right;\n",
       "    }\n",
       "</style>\n",
       "<table border=\"1\" class=\"dataframe\">\n",
       "  <thead>\n",
       "    <tr style=\"text-align: right;\">\n",
       "      <th></th>\n",
       "      <th>Restaurant ID</th>\n",
       "      <th>Country Code</th>\n",
       "      <th>Longitude</th>\n",
       "      <th>Latitude</th>\n",
       "      <th>Average Cost for two</th>\n",
       "      <th>Price range</th>\n",
       "      <th>Aggregate rating</th>\n",
       "      <th>Votes</th>\n",
       "    </tr>\n",
       "  </thead>\n",
       "  <tbody>\n",
       "    <tr>\n",
       "      <th>count</th>\n",
       "      <td>9.551000e+03</td>\n",
       "      <td>9551.000000</td>\n",
       "      <td>9551.000000</td>\n",
       "      <td>9551.000000</td>\n",
       "      <td>9551.000000</td>\n",
       "      <td>9551.000000</td>\n",
       "      <td>9551.000000</td>\n",
       "      <td>9551.000000</td>\n",
       "    </tr>\n",
       "    <tr>\n",
       "      <th>mean</th>\n",
       "      <td>9.051128e+06</td>\n",
       "      <td>18.365616</td>\n",
       "      <td>64.126574</td>\n",
       "      <td>25.854381</td>\n",
       "      <td>1199.210763</td>\n",
       "      <td>1.804837</td>\n",
       "      <td>2.666370</td>\n",
       "      <td>156.909748</td>\n",
       "    </tr>\n",
       "    <tr>\n",
       "      <th>std</th>\n",
       "      <td>8.791521e+06</td>\n",
       "      <td>56.750546</td>\n",
       "      <td>41.467058</td>\n",
       "      <td>11.007935</td>\n",
       "      <td>16121.183073</td>\n",
       "      <td>0.905609</td>\n",
       "      <td>1.516378</td>\n",
       "      <td>430.169145</td>\n",
       "    </tr>\n",
       "    <tr>\n",
       "      <th>min</th>\n",
       "      <td>5.300000e+01</td>\n",
       "      <td>1.000000</td>\n",
       "      <td>-157.948486</td>\n",
       "      <td>-41.330428</td>\n",
       "      <td>0.000000</td>\n",
       "      <td>1.000000</td>\n",
       "      <td>0.000000</td>\n",
       "      <td>0.000000</td>\n",
       "    </tr>\n",
       "    <tr>\n",
       "      <th>25%</th>\n",
       "      <td>3.019625e+05</td>\n",
       "      <td>1.000000</td>\n",
       "      <td>77.081343</td>\n",
       "      <td>28.478713</td>\n",
       "      <td>250.000000</td>\n",
       "      <td>1.000000</td>\n",
       "      <td>2.500000</td>\n",
       "      <td>5.000000</td>\n",
       "    </tr>\n",
       "    <tr>\n",
       "      <th>50%</th>\n",
       "      <td>6.004089e+06</td>\n",
       "      <td>1.000000</td>\n",
       "      <td>77.191964</td>\n",
       "      <td>28.570469</td>\n",
       "      <td>400.000000</td>\n",
       "      <td>2.000000</td>\n",
       "      <td>3.200000</td>\n",
       "      <td>31.000000</td>\n",
       "    </tr>\n",
       "    <tr>\n",
       "      <th>75%</th>\n",
       "      <td>1.835229e+07</td>\n",
       "      <td>1.000000</td>\n",
       "      <td>77.282006</td>\n",
       "      <td>28.642758</td>\n",
       "      <td>700.000000</td>\n",
       "      <td>2.000000</td>\n",
       "      <td>3.700000</td>\n",
       "      <td>131.000000</td>\n",
       "    </tr>\n",
       "    <tr>\n",
       "      <th>max</th>\n",
       "      <td>1.850065e+07</td>\n",
       "      <td>216.000000</td>\n",
       "      <td>174.832089</td>\n",
       "      <td>55.976980</td>\n",
       "      <td>800000.000000</td>\n",
       "      <td>4.000000</td>\n",
       "      <td>4.900000</td>\n",
       "      <td>10934.000000</td>\n",
       "    </tr>\n",
       "  </tbody>\n",
       "</table>\n",
       "</div>"
      ],
      "text/plain": [
       "       Restaurant ID  Country Code    Longitude     Latitude  \\\n",
       "count   9.551000e+03   9551.000000  9551.000000  9551.000000   \n",
       "mean    9.051128e+06     18.365616    64.126574    25.854381   \n",
       "std     8.791521e+06     56.750546    41.467058    11.007935   \n",
       "min     5.300000e+01      1.000000  -157.948486   -41.330428   \n",
       "25%     3.019625e+05      1.000000    77.081343    28.478713   \n",
       "50%     6.004089e+06      1.000000    77.191964    28.570469   \n",
       "75%     1.835229e+07      1.000000    77.282006    28.642758   \n",
       "max     1.850065e+07    216.000000   174.832089    55.976980   \n",
       "\n",
       "       Average Cost for two  Price range  Aggregate rating         Votes  \n",
       "count           9551.000000  9551.000000       9551.000000   9551.000000  \n",
       "mean            1199.210763     1.804837          2.666370    156.909748  \n",
       "std            16121.183073     0.905609          1.516378    430.169145  \n",
       "min                0.000000     1.000000          0.000000      0.000000  \n",
       "25%              250.000000     1.000000          2.500000      5.000000  \n",
       "50%              400.000000     2.000000          3.200000     31.000000  \n",
       "75%              700.000000     2.000000          3.700000    131.000000  \n",
       "max           800000.000000     4.000000          4.900000  10934.000000  "
      ]
     },
     "execution_count": 92,
     "metadata": {},
     "output_type": "execute_result"
    }
   ],
   "source": [
    "df.describe()"
   ]
  },
  {
   "cell_type": "markdown",
   "id": "a952b786",
   "metadata": {},
   "source": [
    "# Investigating Missing Values and Duplicate values"
   ]
  },
  {
   "cell_type": "code",
   "execution_count": 93,
   "id": "7c13f927",
   "metadata": {},
   "outputs": [
    {
     "data": {
      "text/plain": [
       "Restaurant ID           0\n",
       "Restaurant Name         0\n",
       "Country Code            0\n",
       "City                    0\n",
       "Address                 0\n",
       "Locality                0\n",
       "Locality Verbose        0\n",
       "Longitude               0\n",
       "Latitude                0\n",
       "Cuisines                9\n",
       "Average Cost for two    0\n",
       "Currency                0\n",
       "Has Table booking       0\n",
       "Has Online delivery     0\n",
       "Is delivering now       0\n",
       "Switch to order menu    0\n",
       "Price range             0\n",
       "Aggregate rating        0\n",
       "Rating color            0\n",
       "Rating text             0\n",
       "Votes                   0\n",
       "dtype: int64"
      ]
     },
     "execution_count": 93,
     "metadata": {},
     "output_type": "execute_result"
    }
   ],
   "source": [
    "# Understanding how many null values we have\n",
    "df.isna().sum()"
   ]
  },
  {
   "cell_type": "code",
   "execution_count": 94,
   "id": "5575d44f",
   "metadata": {},
   "outputs": [
    {
     "data": {
      "text/html": [
       "<div>\n",
       "<style scoped>\n",
       "    .dataframe tbody tr th:only-of-type {\n",
       "        vertical-align: middle;\n",
       "    }\n",
       "\n",
       "    .dataframe tbody tr th {\n",
       "        vertical-align: top;\n",
       "    }\n",
       "\n",
       "    .dataframe thead th {\n",
       "        text-align: right;\n",
       "    }\n",
       "</style>\n",
       "<table border=\"1\" class=\"dataframe\">\n",
       "  <thead>\n",
       "    <tr style=\"text-align: right;\">\n",
       "      <th></th>\n",
       "      <th>Restaurant ID</th>\n",
       "      <th>Restaurant Name</th>\n",
       "      <th>Country Code</th>\n",
       "      <th>City</th>\n",
       "      <th>Address</th>\n",
       "      <th>Locality</th>\n",
       "      <th>Locality Verbose</th>\n",
       "      <th>Longitude</th>\n",
       "      <th>Latitude</th>\n",
       "      <th>Cuisines</th>\n",
       "      <th>Average Cost for two</th>\n",
       "      <th>Currency</th>\n",
       "      <th>Has Table booking</th>\n",
       "      <th>Has Online delivery</th>\n",
       "      <th>Is delivering now</th>\n",
       "      <th>Switch to order menu</th>\n",
       "      <th>Price range</th>\n",
       "      <th>Aggregate rating</th>\n",
       "      <th>Rating color</th>\n",
       "      <th>Rating text</th>\n",
       "      <th>Votes</th>\n",
       "    </tr>\n",
       "  </thead>\n",
       "  <tbody>\n",
       "    <tr>\n",
       "      <th>84</th>\n",
       "      <td>17284105</td>\n",
       "      <td>Cookie Shoppe</td>\n",
       "      <td>216</td>\n",
       "      <td>Albany</td>\n",
       "      <td>115 N Jackson St, Albany, GA 31701</td>\n",
       "      <td>Albany</td>\n",
       "      <td>Albany, Albany</td>\n",
       "      <td>-84.154000</td>\n",
       "      <td>31.577200</td>\n",
       "      <td>NaN</td>\n",
       "      <td>0</td>\n",
       "      <td>Dollar($)</td>\n",
       "      <td>No</td>\n",
       "      <td>No</td>\n",
       "      <td>No</td>\n",
       "      <td>No</td>\n",
       "      <td>1</td>\n",
       "      <td>3.4</td>\n",
       "      <td>Orange</td>\n",
       "      <td>Average</td>\n",
       "      <td>34</td>\n",
       "    </tr>\n",
       "    <tr>\n",
       "      <th>87</th>\n",
       "      <td>17284211</td>\n",
       "      <td>Pearly's Famous Country Cookng</td>\n",
       "      <td>216</td>\n",
       "      <td>Albany</td>\n",
       "      <td>814 N Slappey Blvd, Albany, GA 31701</td>\n",
       "      <td>Albany</td>\n",
       "      <td>Albany, Albany</td>\n",
       "      <td>-84.175900</td>\n",
       "      <td>31.588200</td>\n",
       "      <td>NaN</td>\n",
       "      <td>0</td>\n",
       "      <td>Dollar($)</td>\n",
       "      <td>No</td>\n",
       "      <td>No</td>\n",
       "      <td>No</td>\n",
       "      <td>No</td>\n",
       "      <td>1</td>\n",
       "      <td>3.4</td>\n",
       "      <td>Orange</td>\n",
       "      <td>Average</td>\n",
       "      <td>36</td>\n",
       "    </tr>\n",
       "    <tr>\n",
       "      <th>94</th>\n",
       "      <td>17284158</td>\n",
       "      <td>Jimmie's Hot Dogs</td>\n",
       "      <td>216</td>\n",
       "      <td>Albany</td>\n",
       "      <td>204 S Jackson St, Albany, GA 31701</td>\n",
       "      <td>Albany</td>\n",
       "      <td>Albany, Albany</td>\n",
       "      <td>-84.153400</td>\n",
       "      <td>31.575100</td>\n",
       "      <td>NaN</td>\n",
       "      <td>10</td>\n",
       "      <td>Dollar($)</td>\n",
       "      <td>No</td>\n",
       "      <td>No</td>\n",
       "      <td>No</td>\n",
       "      <td>No</td>\n",
       "      <td>1</td>\n",
       "      <td>3.9</td>\n",
       "      <td>Yellow</td>\n",
       "      <td>Good</td>\n",
       "      <td>160</td>\n",
       "    </tr>\n",
       "    <tr>\n",
       "      <th>297</th>\n",
       "      <td>17374552</td>\n",
       "      <td>Corkscrew Cafe</td>\n",
       "      <td>216</td>\n",
       "      <td>Gainesville</td>\n",
       "      <td>51 W Main St, Dahlonega, GA 30533</td>\n",
       "      <td>Dahlonega</td>\n",
       "      <td>Dahlonega, Gainesville</td>\n",
       "      <td>-83.985800</td>\n",
       "      <td>34.531800</td>\n",
       "      <td>NaN</td>\n",
       "      <td>40</td>\n",
       "      <td>Dollar($)</td>\n",
       "      <td>No</td>\n",
       "      <td>No</td>\n",
       "      <td>No</td>\n",
       "      <td>No</td>\n",
       "      <td>3</td>\n",
       "      <td>3.9</td>\n",
       "      <td>Yellow</td>\n",
       "      <td>Good</td>\n",
       "      <td>209</td>\n",
       "    </tr>\n",
       "    <tr>\n",
       "      <th>328</th>\n",
       "      <td>17501439</td>\n",
       "      <td>Dovetail</td>\n",
       "      <td>216</td>\n",
       "      <td>Macon</td>\n",
       "      <td>543 Cherry St, Macon, GA 31201</td>\n",
       "      <td>Macon</td>\n",
       "      <td>Macon, Macon</td>\n",
       "      <td>-83.627979</td>\n",
       "      <td>32.836410</td>\n",
       "      <td>NaN</td>\n",
       "      <td>40</td>\n",
       "      <td>Dollar($)</td>\n",
       "      <td>No</td>\n",
       "      <td>No</td>\n",
       "      <td>No</td>\n",
       "      <td>No</td>\n",
       "      <td>3</td>\n",
       "      <td>3.8</td>\n",
       "      <td>Yellow</td>\n",
       "      <td>Good</td>\n",
       "      <td>102</td>\n",
       "    </tr>\n",
       "    <tr>\n",
       "      <th>346</th>\n",
       "      <td>17606621</td>\n",
       "      <td>HI Lite Bar &amp; Lounge</td>\n",
       "      <td>216</td>\n",
       "      <td>Miller</td>\n",
       "      <td>109 N Broadway Ave, Miller, SD 57362</td>\n",
       "      <td>Miller</td>\n",
       "      <td>Miller, Miller</td>\n",
       "      <td>-98.989100</td>\n",
       "      <td>44.515800</td>\n",
       "      <td>NaN</td>\n",
       "      <td>0</td>\n",
       "      <td>Dollar($)</td>\n",
       "      <td>No</td>\n",
       "      <td>No</td>\n",
       "      <td>No</td>\n",
       "      <td>No</td>\n",
       "      <td>1</td>\n",
       "      <td>3.4</td>\n",
       "      <td>Orange</td>\n",
       "      <td>Average</td>\n",
       "      <td>11</td>\n",
       "    </tr>\n",
       "    <tr>\n",
       "      <th>368</th>\n",
       "      <td>17059060</td>\n",
       "      <td>Hillstone</td>\n",
       "      <td>216</td>\n",
       "      <td>Orlando</td>\n",
       "      <td>215 South Orlando Avenue, Winter Park, FL 32789</td>\n",
       "      <td>Winter Park</td>\n",
       "      <td>Winter Park, Orlando</td>\n",
       "      <td>-81.365260</td>\n",
       "      <td>28.596682</td>\n",
       "      <td>NaN</td>\n",
       "      <td>40</td>\n",
       "      <td>Dollar($)</td>\n",
       "      <td>No</td>\n",
       "      <td>No</td>\n",
       "      <td>No</td>\n",
       "      <td>No</td>\n",
       "      <td>3</td>\n",
       "      <td>4.4</td>\n",
       "      <td>Green</td>\n",
       "      <td>Very Good</td>\n",
       "      <td>1158</td>\n",
       "    </tr>\n",
       "    <tr>\n",
       "      <th>418</th>\n",
       "      <td>17142698</td>\n",
       "      <td>Leonard's Bakery</td>\n",
       "      <td>216</td>\n",
       "      <td>Rest of Hawaii</td>\n",
       "      <td>933 Kapahulu Ave, Honolulu, HI 96816</td>\n",
       "      <td>Kaimuki</td>\n",
       "      <td>Kaimuki, Rest of Hawaii</td>\n",
       "      <td>-157.813432</td>\n",
       "      <td>21.284586</td>\n",
       "      <td>NaN</td>\n",
       "      <td>10</td>\n",
       "      <td>Dollar($)</td>\n",
       "      <td>No</td>\n",
       "      <td>No</td>\n",
       "      <td>No</td>\n",
       "      <td>No</td>\n",
       "      <td>1</td>\n",
       "      <td>4.7</td>\n",
       "      <td>Dark Green</td>\n",
       "      <td>Excellent</td>\n",
       "      <td>707</td>\n",
       "    </tr>\n",
       "    <tr>\n",
       "      <th>455</th>\n",
       "      <td>17616465</td>\n",
       "      <td>Tybee Island Social Club</td>\n",
       "      <td>216</td>\n",
       "      <td>Savannah</td>\n",
       "      <td>1311 Butler Ave, Tybee Island, GA 31328</td>\n",
       "      <td>Tybee Island</td>\n",
       "      <td>Tybee Island, Savannah</td>\n",
       "      <td>-80.848297</td>\n",
       "      <td>31.995810</td>\n",
       "      <td>NaN</td>\n",
       "      <td>10</td>\n",
       "      <td>Dollar($)</td>\n",
       "      <td>No</td>\n",
       "      <td>No</td>\n",
       "      <td>No</td>\n",
       "      <td>No</td>\n",
       "      <td>1</td>\n",
       "      <td>3.9</td>\n",
       "      <td>Yellow</td>\n",
       "      <td>Good</td>\n",
       "      <td>309</td>\n",
       "    </tr>\n",
       "  </tbody>\n",
       "</table>\n",
       "</div>"
      ],
      "text/plain": [
       "     Restaurant ID                 Restaurant Name  Country Code  \\\n",
       "84        17284105                   Cookie Shoppe           216   \n",
       "87        17284211  Pearly's Famous Country Cookng           216   \n",
       "94        17284158               Jimmie's Hot Dogs           216   \n",
       "297       17374552                  Corkscrew Cafe           216   \n",
       "328       17501439                        Dovetail           216   \n",
       "346       17606621            HI Lite Bar & Lounge           216   \n",
       "368       17059060                       Hillstone           216   \n",
       "418       17142698                Leonard's Bakery           216   \n",
       "455       17616465        Tybee Island Social Club           216   \n",
       "\n",
       "               City                                          Address  \\\n",
       "84           Albany               115 N Jackson St, Albany, GA 31701   \n",
       "87           Albany             814 N Slappey Blvd, Albany, GA 31701   \n",
       "94           Albany               204 S Jackson St, Albany, GA 31701   \n",
       "297     Gainesville                51 W Main St, Dahlonega, GA 30533   \n",
       "328           Macon                   543 Cherry St, Macon, GA 31201   \n",
       "346          Miller             109 N Broadway Ave, Miller, SD 57362   \n",
       "368         Orlando  215 South Orlando Avenue, Winter Park, FL 32789   \n",
       "418  Rest of Hawaii             933 Kapahulu Ave, Honolulu, HI 96816   \n",
       "455        Savannah          1311 Butler Ave, Tybee Island, GA 31328   \n",
       "\n",
       "         Locality         Locality Verbose   Longitude   Latitude Cuisines  \\\n",
       "84         Albany           Albany, Albany  -84.154000  31.577200      NaN   \n",
       "87         Albany           Albany, Albany  -84.175900  31.588200      NaN   \n",
       "94         Albany           Albany, Albany  -84.153400  31.575100      NaN   \n",
       "297     Dahlonega   Dahlonega, Gainesville  -83.985800  34.531800      NaN   \n",
       "328         Macon             Macon, Macon  -83.627979  32.836410      NaN   \n",
       "346        Miller           Miller, Miller  -98.989100  44.515800      NaN   \n",
       "368   Winter Park     Winter Park, Orlando  -81.365260  28.596682      NaN   \n",
       "418       Kaimuki  Kaimuki, Rest of Hawaii -157.813432  21.284586      NaN   \n",
       "455  Tybee Island   Tybee Island, Savannah  -80.848297  31.995810      NaN   \n",
       "\n",
       "     Average Cost for two   Currency Has Table booking Has Online delivery  \\\n",
       "84                      0  Dollar($)                No                  No   \n",
       "87                      0  Dollar($)                No                  No   \n",
       "94                     10  Dollar($)                No                  No   \n",
       "297                    40  Dollar($)                No                  No   \n",
       "328                    40  Dollar($)                No                  No   \n",
       "346                     0  Dollar($)                No                  No   \n",
       "368                    40  Dollar($)                No                  No   \n",
       "418                    10  Dollar($)                No                  No   \n",
       "455                    10  Dollar($)                No                  No   \n",
       "\n",
       "    Is delivering now Switch to order menu  Price range  Aggregate rating  \\\n",
       "84                 No                   No            1               3.4   \n",
       "87                 No                   No            1               3.4   \n",
       "94                 No                   No            1               3.9   \n",
       "297                No                   No            3               3.9   \n",
       "328                No                   No            3               3.8   \n",
       "346                No                   No            1               3.4   \n",
       "368                No                   No            3               4.4   \n",
       "418                No                   No            1               4.7   \n",
       "455                No                   No            1               3.9   \n",
       "\n",
       "    Rating color Rating text  Votes  \n",
       "84        Orange     Average     34  \n",
       "87        Orange     Average     36  \n",
       "94        Yellow        Good    160  \n",
       "297       Yellow        Good    209  \n",
       "328       Yellow        Good    102  \n",
       "346       Orange     Average     11  \n",
       "368        Green   Very Good   1158  \n",
       "418   Dark Green   Excellent    707  \n",
       "455       Yellow        Good    309  "
      ]
     },
     "execution_count": 94,
     "metadata": {},
     "output_type": "execute_result"
    }
   ],
   "source": [
    "df[df['Cuisines'].isna()]"
   ]
  },
  {
   "cell_type": "markdown",
   "id": "b33744ea",
   "metadata": {},
   "source": [
    "We can see we only have 9 missing values in cuisines. Now checking for duplicates."
   ]
  },
  {
   "cell_type": "code",
   "execution_count": 95,
   "id": "64381e2e",
   "metadata": {},
   "outputs": [
    {
     "name": "stdout",
     "output_type": "stream",
     "text": [
      "Amount of duplicate rows: 0\n"
     ]
    }
   ],
   "source": [
    "# Check for duplicates\n",
    "print('Amount of duplicate rows:',len(df[df.duplicated()]))"
   ]
  },
  {
   "cell_type": "markdown",
   "id": "fbee72b6",
   "metadata": {},
   "source": [
    "# Merge Two Datasets"
   ]
  },
  {
   "cell_type": "code",
   "execution_count": 96,
   "id": "21b76b5a",
   "metadata": {},
   "outputs": [
    {
     "data": {
      "text/html": [
       "<div>\n",
       "<style scoped>\n",
       "    .dataframe tbody tr th:only-of-type {\n",
       "        vertical-align: middle;\n",
       "    }\n",
       "\n",
       "    .dataframe tbody tr th {\n",
       "        vertical-align: top;\n",
       "    }\n",
       "\n",
       "    .dataframe thead th {\n",
       "        text-align: right;\n",
       "    }\n",
       "</style>\n",
       "<table border=\"1\" class=\"dataframe\">\n",
       "  <thead>\n",
       "    <tr style=\"text-align: right;\">\n",
       "      <th></th>\n",
       "      <th>Country Code</th>\n",
       "      <th>Country</th>\n",
       "    </tr>\n",
       "  </thead>\n",
       "  <tbody>\n",
       "    <tr>\n",
       "      <th>0</th>\n",
       "      <td>1</td>\n",
       "      <td>India</td>\n",
       "    </tr>\n",
       "    <tr>\n",
       "      <th>1</th>\n",
       "      <td>14</td>\n",
       "      <td>Australia</td>\n",
       "    </tr>\n",
       "    <tr>\n",
       "      <th>2</th>\n",
       "      <td>30</td>\n",
       "      <td>Brazil</td>\n",
       "    </tr>\n",
       "    <tr>\n",
       "      <th>3</th>\n",
       "      <td>37</td>\n",
       "      <td>Canada</td>\n",
       "    </tr>\n",
       "    <tr>\n",
       "      <th>4</th>\n",
       "      <td>94</td>\n",
       "      <td>Indonesia</td>\n",
       "    </tr>\n",
       "  </tbody>\n",
       "</table>\n",
       "</div>"
      ],
      "text/plain": [
       "   Country Code    Country\n",
       "0             1      India\n",
       "1            14  Australia\n",
       "2            30     Brazil\n",
       "3            37     Canada\n",
       "4            94  Indonesia"
      ]
     },
     "execution_count": 96,
     "metadata": {},
     "output_type": "execute_result"
    }
   ],
   "source": [
    "df_country = pd.read_excel('Country-Code.xlsx')\n",
    "df_country.head()"
   ]
  },
  {
   "cell_type": "code",
   "execution_count": 97,
   "id": "dad174fd",
   "metadata": {},
   "outputs": [
    {
     "data": {
      "text/plain": [
       "Index(['Country Code', 'Country'], dtype='object')"
      ]
     },
     "execution_count": 97,
     "metadata": {},
     "output_type": "execute_result"
    }
   ],
   "source": [
    "df_country.columns"
   ]
  },
  {
   "cell_type": "code",
   "execution_count": 262,
   "id": "596f0533",
   "metadata": {},
   "outputs": [],
   "source": [
    "# We want to merge the two dataframes on the country code column and keep the df table (left)\n",
    "final_df = pd.merge(df, df_country, on = 'Country Code', how = 'left')"
   ]
  },
  {
   "cell_type": "code",
   "execution_count": 263,
   "id": "f762e4ea",
   "metadata": {},
   "outputs": [],
   "source": [
    "pd.set_option('display.max_columns', 22)"
   ]
  },
  {
   "cell_type": "code",
   "execution_count": 264,
   "id": "21d6c03d",
   "metadata": {},
   "outputs": [
    {
     "data": {
      "text/html": [
       "<div>\n",
       "<style scoped>\n",
       "    .dataframe tbody tr th:only-of-type {\n",
       "        vertical-align: middle;\n",
       "    }\n",
       "\n",
       "    .dataframe tbody tr th {\n",
       "        vertical-align: top;\n",
       "    }\n",
       "\n",
       "    .dataframe thead th {\n",
       "        text-align: right;\n",
       "    }\n",
       "</style>\n",
       "<table border=\"1\" class=\"dataframe\">\n",
       "  <thead>\n",
       "    <tr style=\"text-align: right;\">\n",
       "      <th></th>\n",
       "      <th>Restaurant ID</th>\n",
       "      <th>Restaurant Name</th>\n",
       "      <th>Country Code</th>\n",
       "      <th>City</th>\n",
       "      <th>Address</th>\n",
       "      <th>Locality</th>\n",
       "      <th>Locality Verbose</th>\n",
       "      <th>Longitude</th>\n",
       "      <th>Latitude</th>\n",
       "      <th>Cuisines</th>\n",
       "      <th>Average Cost for two</th>\n",
       "      <th>Currency</th>\n",
       "      <th>Has Table booking</th>\n",
       "      <th>Has Online delivery</th>\n",
       "      <th>Is delivering now</th>\n",
       "      <th>Switch to order menu</th>\n",
       "      <th>Price range</th>\n",
       "      <th>Aggregate rating</th>\n",
       "      <th>Rating color</th>\n",
       "      <th>Rating text</th>\n",
       "      <th>Votes</th>\n",
       "      <th>Country</th>\n",
       "    </tr>\n",
       "  </thead>\n",
       "  <tbody>\n",
       "    <tr>\n",
       "      <th>0</th>\n",
       "      <td>6317637</td>\n",
       "      <td>Le Petit Souffle</td>\n",
       "      <td>162</td>\n",
       "      <td>Makati City</td>\n",
       "      <td>Third Floor, Century City Mall, Kalayaan Avenu...</td>\n",
       "      <td>Century City Mall, Poblacion, Makati City</td>\n",
       "      <td>Century City Mall, Poblacion, Makati City, Mak...</td>\n",
       "      <td>121.027535</td>\n",
       "      <td>14.565443</td>\n",
       "      <td>French, Japanese, Desserts</td>\n",
       "      <td>1100</td>\n",
       "      <td>Botswana Pula(P)</td>\n",
       "      <td>Yes</td>\n",
       "      <td>No</td>\n",
       "      <td>No</td>\n",
       "      <td>No</td>\n",
       "      <td>3</td>\n",
       "      <td>4.8</td>\n",
       "      <td>Dark Green</td>\n",
       "      <td>Excellent</td>\n",
       "      <td>314</td>\n",
       "      <td>Phillipines</td>\n",
       "    </tr>\n",
       "    <tr>\n",
       "      <th>1</th>\n",
       "      <td>6304287</td>\n",
       "      <td>Izakaya Kikufuji</td>\n",
       "      <td>162</td>\n",
       "      <td>Makati City</td>\n",
       "      <td>Little Tokyo, 2277 Chino Roces Avenue, Legaspi...</td>\n",
       "      <td>Little Tokyo, Legaspi Village, Makati City</td>\n",
       "      <td>Little Tokyo, Legaspi Village, Makati City, Ma...</td>\n",
       "      <td>121.014101</td>\n",
       "      <td>14.553708</td>\n",
       "      <td>Japanese</td>\n",
       "      <td>1200</td>\n",
       "      <td>Botswana Pula(P)</td>\n",
       "      <td>Yes</td>\n",
       "      <td>No</td>\n",
       "      <td>No</td>\n",
       "      <td>No</td>\n",
       "      <td>3</td>\n",
       "      <td>4.5</td>\n",
       "      <td>Dark Green</td>\n",
       "      <td>Excellent</td>\n",
       "      <td>591</td>\n",
       "      <td>Phillipines</td>\n",
       "    </tr>\n",
       "    <tr>\n",
       "      <th>2</th>\n",
       "      <td>6300002</td>\n",
       "      <td>Heat - Edsa Shangri-La</td>\n",
       "      <td>162</td>\n",
       "      <td>Mandaluyong City</td>\n",
       "      <td>Edsa Shangri-La, 1 Garden Way, Ortigas, Mandal...</td>\n",
       "      <td>Edsa Shangri-La, Ortigas, Mandaluyong City</td>\n",
       "      <td>Edsa Shangri-La, Ortigas, Mandaluyong City, Ma...</td>\n",
       "      <td>121.056831</td>\n",
       "      <td>14.581404</td>\n",
       "      <td>Seafood, Asian, Filipino, Indian</td>\n",
       "      <td>4000</td>\n",
       "      <td>Botswana Pula(P)</td>\n",
       "      <td>Yes</td>\n",
       "      <td>No</td>\n",
       "      <td>No</td>\n",
       "      <td>No</td>\n",
       "      <td>4</td>\n",
       "      <td>4.4</td>\n",
       "      <td>Green</td>\n",
       "      <td>Very Good</td>\n",
       "      <td>270</td>\n",
       "      <td>Phillipines</td>\n",
       "    </tr>\n",
       "    <tr>\n",
       "      <th>3</th>\n",
       "      <td>6318506</td>\n",
       "      <td>Ooma</td>\n",
       "      <td>162</td>\n",
       "      <td>Mandaluyong City</td>\n",
       "      <td>Third Floor, Mega Fashion Hall, SM Megamall, O...</td>\n",
       "      <td>SM Megamall, Ortigas, Mandaluyong City</td>\n",
       "      <td>SM Megamall, Ortigas, Mandaluyong City, Mandal...</td>\n",
       "      <td>121.056475</td>\n",
       "      <td>14.585318</td>\n",
       "      <td>Japanese, Sushi</td>\n",
       "      <td>1500</td>\n",
       "      <td>Botswana Pula(P)</td>\n",
       "      <td>No</td>\n",
       "      <td>No</td>\n",
       "      <td>No</td>\n",
       "      <td>No</td>\n",
       "      <td>4</td>\n",
       "      <td>4.9</td>\n",
       "      <td>Dark Green</td>\n",
       "      <td>Excellent</td>\n",
       "      <td>365</td>\n",
       "      <td>Phillipines</td>\n",
       "    </tr>\n",
       "    <tr>\n",
       "      <th>4</th>\n",
       "      <td>6314302</td>\n",
       "      <td>Sambo Kojin</td>\n",
       "      <td>162</td>\n",
       "      <td>Mandaluyong City</td>\n",
       "      <td>Third Floor, Mega Atrium, SM Megamall, Ortigas...</td>\n",
       "      <td>SM Megamall, Ortigas, Mandaluyong City</td>\n",
       "      <td>SM Megamall, Ortigas, Mandaluyong City, Mandal...</td>\n",
       "      <td>121.057508</td>\n",
       "      <td>14.584450</td>\n",
       "      <td>Japanese, Korean</td>\n",
       "      <td>1500</td>\n",
       "      <td>Botswana Pula(P)</td>\n",
       "      <td>Yes</td>\n",
       "      <td>No</td>\n",
       "      <td>No</td>\n",
       "      <td>No</td>\n",
       "      <td>4</td>\n",
       "      <td>4.8</td>\n",
       "      <td>Dark Green</td>\n",
       "      <td>Excellent</td>\n",
       "      <td>229</td>\n",
       "      <td>Phillipines</td>\n",
       "    </tr>\n",
       "  </tbody>\n",
       "</table>\n",
       "</div>"
      ],
      "text/plain": [
       "   Restaurant ID         Restaurant Name  Country Code              City  \\\n",
       "0        6317637        Le Petit Souffle           162       Makati City   \n",
       "1        6304287        Izakaya Kikufuji           162       Makati City   \n",
       "2        6300002  Heat - Edsa Shangri-La           162  Mandaluyong City   \n",
       "3        6318506                    Ooma           162  Mandaluyong City   \n",
       "4        6314302             Sambo Kojin           162  Mandaluyong City   \n",
       "\n",
       "                                             Address  \\\n",
       "0  Third Floor, Century City Mall, Kalayaan Avenu...   \n",
       "1  Little Tokyo, 2277 Chino Roces Avenue, Legaspi...   \n",
       "2  Edsa Shangri-La, 1 Garden Way, Ortigas, Mandal...   \n",
       "3  Third Floor, Mega Fashion Hall, SM Megamall, O...   \n",
       "4  Third Floor, Mega Atrium, SM Megamall, Ortigas...   \n",
       "\n",
       "                                     Locality  \\\n",
       "0   Century City Mall, Poblacion, Makati City   \n",
       "1  Little Tokyo, Legaspi Village, Makati City   \n",
       "2  Edsa Shangri-La, Ortigas, Mandaluyong City   \n",
       "3      SM Megamall, Ortigas, Mandaluyong City   \n",
       "4      SM Megamall, Ortigas, Mandaluyong City   \n",
       "\n",
       "                                    Locality Verbose   Longitude   Latitude  \\\n",
       "0  Century City Mall, Poblacion, Makati City, Mak...  121.027535  14.565443   \n",
       "1  Little Tokyo, Legaspi Village, Makati City, Ma...  121.014101  14.553708   \n",
       "2  Edsa Shangri-La, Ortigas, Mandaluyong City, Ma...  121.056831  14.581404   \n",
       "3  SM Megamall, Ortigas, Mandaluyong City, Mandal...  121.056475  14.585318   \n",
       "4  SM Megamall, Ortigas, Mandaluyong City, Mandal...  121.057508  14.584450   \n",
       "\n",
       "                           Cuisines  Average Cost for two          Currency  \\\n",
       "0        French, Japanese, Desserts                  1100  Botswana Pula(P)   \n",
       "1                          Japanese                  1200  Botswana Pula(P)   \n",
       "2  Seafood, Asian, Filipino, Indian                  4000  Botswana Pula(P)   \n",
       "3                   Japanese, Sushi                  1500  Botswana Pula(P)   \n",
       "4                  Japanese, Korean                  1500  Botswana Pula(P)   \n",
       "\n",
       "  Has Table booking Has Online delivery Is delivering now  \\\n",
       "0               Yes                  No                No   \n",
       "1               Yes                  No                No   \n",
       "2               Yes                  No                No   \n",
       "3                No                  No                No   \n",
       "4               Yes                  No                No   \n",
       "\n",
       "  Switch to order menu  Price range  Aggregate rating Rating color  \\\n",
       "0                   No            3               4.8   Dark Green   \n",
       "1                   No            3               4.5   Dark Green   \n",
       "2                   No            4               4.4        Green   \n",
       "3                   No            4               4.9   Dark Green   \n",
       "4                   No            4               4.8   Dark Green   \n",
       "\n",
       "  Rating text  Votes      Country  \n",
       "0   Excellent    314  Phillipines  \n",
       "1   Excellent    591  Phillipines  \n",
       "2   Very Good    270  Phillipines  \n",
       "3   Excellent    365  Phillipines  \n",
       "4   Excellent    229  Phillipines  "
      ]
     },
     "execution_count": 264,
     "metadata": {},
     "output_type": "execute_result"
    }
   ],
   "source": [
    "final_df.head()"
   ]
  },
  {
   "cell_type": "markdown",
   "id": "a85fcc34",
   "metadata": {},
   "source": [
    "# Renaming Columns \n",
    "I prefer to work with column names which are all lowercase and joined by '_'"
   ]
  },
  {
   "cell_type": "code",
   "execution_count": 265,
   "id": "ea7fa1aa",
   "metadata": {},
   "outputs": [],
   "source": [
    "final_df.columns = final_df.columns.str.lower().str.replace(' ', '_')"
   ]
  },
  {
   "cell_type": "markdown",
   "id": "853f2362",
   "metadata": {},
   "source": [
    "# Data Types "
   ]
  },
  {
   "cell_type": "code",
   "execution_count": 266,
   "id": "693f01f0",
   "metadata": {},
   "outputs": [
    {
     "name": "stdout",
     "output_type": "stream",
     "text": [
      "Types before conversion:\n"
     ]
    },
    {
     "data": {
      "text/plain": [
       "restaurant_id             int64\n",
       "restaurant_name          object\n",
       "country_code              int64\n",
       "city                     object\n",
       "address                  object\n",
       "locality                 object\n",
       "locality_verbose         object\n",
       "longitude               float64\n",
       "latitude                float64\n",
       "cuisines                 object\n",
       "average_cost_for_two      int64\n",
       "currency                 object\n",
       "has_table_booking        object\n",
       "has_online_delivery      object\n",
       "is_delivering_now        object\n",
       "switch_to_order_menu     object\n",
       "price_range               int64\n",
       "aggregate_rating        float64\n",
       "rating_color             object\n",
       "rating_text              object\n",
       "votes                     int64\n",
       "country                  object\n",
       "dtype: object"
      ]
     },
     "execution_count": 266,
     "metadata": {},
     "output_type": "execute_result"
    }
   ],
   "source": [
    "print('Types before conversion:')\n",
    "final_df.dtypes"
   ]
  },
  {
   "cell_type": "code",
   "execution_count": 267,
   "id": "4e1a922c",
   "metadata": {},
   "outputs": [],
   "source": [
    "def calculate_memory_usage(df_input): \n",
    "    '''Function to calculate memory usage of each column'''\n",
    "    memory_usage = df_input.memory_usage(deep=True) \n",
    "    print('---Initial Memory Consumption---')\n",
    "    print(memory_usage, end='\\n\\n')\n",
    "    return memory_usage "
   ]
  },
  {
   "cell_type": "code",
   "execution_count": 268,
   "id": "d23cd01f",
   "metadata": {},
   "outputs": [
    {
     "name": "stdout",
     "output_type": "stream",
     "text": [
      "---Initial Memory Consumption---\n",
      "Index                       132\n",
      "restaurant_id             76408\n",
      "restaurant_name          693924\n",
      "country_code              76408\n",
      "city                     624274\n",
      "address                 1064139\n",
      "locality                 679894\n",
      "locality_verbose         778878\n",
      "longitude                 76408\n",
      "latitude                  76408\n",
      "cuisines                 734354\n",
      "average_cost_for_two      76408\n",
      "currency                 713419\n",
      "has_table_booking        564667\n",
      "has_online_delivery      565960\n",
      "is_delivering_now        563543\n",
      "switch_to_order_menu     563509\n",
      "price_range               76408\n",
      "aggregate_rating          76408\n",
      "rating_color             599132\n",
      "rating_text              611462\n",
      "votes                     76408\n",
      "country                  597464\n",
      "dtype: int64\n",
      "\n"
     ]
    }
   ],
   "source": [
    "# Record initial memory usage\n",
    "initial_memory = calculate_memory_usage(final_df)"
   ]
  },
  {
   "cell_type": "code",
   "execution_count": 269,
   "id": "63406689",
   "metadata": {},
   "outputs": [],
   "source": [
    "def map_to_bool(df): \n",
    "    '''Input in dataframe and columns to map to boolean values'''\n",
    "    return df.map({'Yes': True, 'No': False}) # Map Yes to True, No to False"
   ]
  },
  {
   "cell_type": "code",
   "execution_count": 270,
   "id": "56bf6dc9",
   "metadata": {},
   "outputs": [],
   "source": [
    "# Convert certain columns to booleans\n",
    "columns_to_convert = [\n",
    "    'has_table_booking',\n",
    "    'has_online_delivery',\n",
    "    'is_delivering_now',\n",
    "    'switch_to_order_menu'\n",
    "]    \n",
    "final_df[columns_to_convert] = final_df[columns_to_convert].apply(map_to_bool)"
   ]
  },
  {
   "cell_type": "code",
   "execution_count": 271,
   "id": "652e9a25",
   "metadata": {},
   "outputs": [],
   "source": [
    "# Map columns to string and category types\n",
    "mapping_type_conversion = {\n",
    "    'restaurant_name':'string',\n",
    "    'address': 'string',\n",
    "    'locality':'string', \n",
    "    'locality_verbose':'string',\n",
    "    'cuisines':'string', \n",
    "    'rating_color': 'category',\n",
    "    'rating_text':'category',\n",
    "    'currency':'category',\n",
    "    'city':'category',\n",
    "    'country':'category'\n",
    "}\n",
    "final_df = final_df.astype(mapping_type_conversion)"
   ]
  },
  {
   "cell_type": "code",
   "execution_count": 272,
   "id": "02cf3a5e",
   "metadata": {},
   "outputs": [
    {
     "name": "stdout",
     "output_type": "stream",
     "text": [
      "Types after conversion:\n"
     ]
    },
    {
     "data": {
      "text/plain": [
       "restaurant_id                    int64\n",
       "restaurant_name         string[python]\n",
       "country_code                     int64\n",
       "city                          category\n",
       "address                 string[python]\n",
       "locality                string[python]\n",
       "locality_verbose        string[python]\n",
       "longitude                      float64\n",
       "latitude                       float64\n",
       "cuisines                string[python]\n",
       "average_cost_for_two             int64\n",
       "currency                      category\n",
       "has_table_booking                 bool\n",
       "has_online_delivery               bool\n",
       "is_delivering_now                 bool\n",
       "switch_to_order_menu              bool\n",
       "price_range                      int64\n",
       "aggregate_rating               float64\n",
       "rating_color                  category\n",
       "rating_text                   category\n",
       "votes                            int64\n",
       "country                       category\n",
       "dtype: object"
      ]
     },
     "execution_count": 272,
     "metadata": {},
     "output_type": "execute_result"
    }
   ],
   "source": [
    "# Types after conversion\n",
    "print('Types after conversion:')\n",
    "final_df.dtypes"
   ]
  },
  {
   "cell_type": "code",
   "execution_count": 273,
   "id": "741fc8a9",
   "metadata": {},
   "outputs": [],
   "source": [
    "def calculate_percentage_diff(initial,final):\n",
    "    '''Returns percentage difference between the two pandas series'''\n",
    "    return (final-initial)/initial *100"
   ]
  },
  {
   "cell_type": "code",
   "execution_count": 274,
   "id": "e531e034",
   "metadata": {},
   "outputs": [
    {
     "name": "stdout",
     "output_type": "stream",
     "text": [
      "---Initial Memory Consumption---\n",
      "Index                       132\n",
      "restaurant_id             76408\n",
      "restaurant_name          693924\n",
      "country_code              76408\n",
      "city                      32636\n",
      "address                 1064139\n",
      "locality                 679894\n",
      "locality_verbose         778878\n",
      "longitude                 76408\n",
      "latitude                  76408\n",
      "cuisines                 734642\n",
      "average_cost_for_two      76408\n",
      "currency                  10755\n",
      "has_table_booking          9551\n",
      "has_online_delivery        9551\n",
      "is_delivering_now          9551\n",
      "switch_to_order_menu       9551\n",
      "price_range               76408\n",
      "aggregate_rating          76408\n",
      "rating_color              10100\n",
      "rating_text               10107\n",
      "votes                     76408\n",
      "country                   11090\n",
      "dtype: int64\n",
      "\n",
      "---Memory Reduction Percentage--\n",
      "Index                    0.000000\n",
      "restaurant_id            0.000000\n",
      "restaurant_name          0.000000\n",
      "country_code             0.000000\n",
      "city                   -94.772167\n",
      "address                  0.000000\n",
      "locality                 0.000000\n",
      "locality_verbose         0.000000\n",
      "longitude                0.000000\n",
      "latitude                 0.000000\n",
      "cuisines                 0.039218\n",
      "average_cost_for_two     0.000000\n",
      "currency               -98.492471\n",
      "has_table_booking      -98.308561\n",
      "has_online_delivery    -98.312425\n",
      "is_delivering_now      -98.305187\n",
      "switch_to_order_menu   -98.305085\n",
      "price_range              0.000000\n",
      "aggregate_rating         0.000000\n",
      "rating_color           -98.314228\n",
      "rating_text            -98.347076\n",
      "votes                    0.000000\n",
      "country                -98.143821\n",
      "dtype: float64\n"
     ]
    }
   ],
   "source": [
    "# Calculate final memory usage\n",
    "final_memory = calculate_memory_usage(final_df)\n",
    "# Calculate percentage change\n",
    "memory_reduction_percent = calculate_percentage_diff(\n",
    "    initial = initial_memory,\n",
    "    final = final_memory\n",
    ")\n",
    "# Print memory reduction \n",
    "print('---Memory Reduction Percentage--')\n",
    "print(memory_reduction_percent)"
   ]
  },
  {
   "cell_type": "markdown",
   "id": "48562f70",
   "metadata": {},
   "source": [
    "# Map of Restaurant Locations "
   ]
  },
  {
   "cell_type": "code",
   "execution_count": null,
   "id": "6a1caa10",
   "metadata": {},
   "outputs": [],
   "source": []
  },
  {
   "cell_type": "markdown",
   "id": "cab4aedf",
   "metadata": {},
   "source": [
    "# Questions to answer\n",
    "## Univariate Analysis \n",
    "1. What countries have the most restaurants listed on Zomato\n",
    "2. How many restaurants offer delivery\n",
    "3. What is the average cost, and delivery of cost for two \n",
    "4. What is the average rating of restaurant"
   ]
  },
  {
   "cell_type": "markdown",
   "id": "67636645",
   "metadata": {},
   "source": [
    "### 1. Representing the amount of restaurant reviews for each country"
   ]
  },
  {
   "cell_type": "code",
   "execution_count": 275,
   "id": "b1c3bb80",
   "metadata": {},
   "outputs": [],
   "source": [
    "plt.style.use('seaborn-v0_8-whitegrid')"
   ]
  },
  {
   "cell_type": "code",
   "execution_count": 276,
   "id": "53d919e8",
   "metadata": {},
   "outputs": [],
   "source": [
    "country_grp = final_df.groupby('country', observed = True).agg({'country':'count'})"
   ]
  },
  {
   "cell_type": "code",
   "execution_count": 277,
   "id": "0bc8ae99",
   "metadata": {},
   "outputs": [],
   "source": [
    "country_grp = country_grp.rename(columns={'country':'count'}).sort_values(by='count', ascending = False)\n",
    "country_grp = country_grp.reset_index()"
   ]
  },
  {
   "cell_type": "code",
   "execution_count": 278,
   "id": "f41cf899",
   "metadata": {},
   "outputs": [
    {
     "data": {
      "text/html": [
       "<div>\n",
       "<style scoped>\n",
       "    .dataframe tbody tr th:only-of-type {\n",
       "        vertical-align: middle;\n",
       "    }\n",
       "\n",
       "    .dataframe tbody tr th {\n",
       "        vertical-align: top;\n",
       "    }\n",
       "\n",
       "    .dataframe thead th {\n",
       "        text-align: right;\n",
       "    }\n",
       "</style>\n",
       "<table border=\"1\" class=\"dataframe\">\n",
       "  <thead>\n",
       "    <tr style=\"text-align: right;\">\n",
       "      <th></th>\n",
       "      <th>country</th>\n",
       "      <th>count</th>\n",
       "    </tr>\n",
       "  </thead>\n",
       "  <tbody>\n",
       "    <tr>\n",
       "      <th>0</th>\n",
       "      <td>India</td>\n",
       "      <td>8652</td>\n",
       "    </tr>\n",
       "    <tr>\n",
       "      <th>1</th>\n",
       "      <td>United States</td>\n",
       "      <td>434</td>\n",
       "    </tr>\n",
       "    <tr>\n",
       "      <th>2</th>\n",
       "      <td>United Kingdom</td>\n",
       "      <td>80</td>\n",
       "    </tr>\n",
       "    <tr>\n",
       "      <th>3</th>\n",
       "      <td>Brazil</td>\n",
       "      <td>60</td>\n",
       "    </tr>\n",
       "    <tr>\n",
       "      <th>4</th>\n",
       "      <td>South Africa</td>\n",
       "      <td>60</td>\n",
       "    </tr>\n",
       "    <tr>\n",
       "      <th>5</th>\n",
       "      <td>UAE</td>\n",
       "      <td>60</td>\n",
       "    </tr>\n",
       "    <tr>\n",
       "      <th>6</th>\n",
       "      <td>New Zealand</td>\n",
       "      <td>40</td>\n",
       "    </tr>\n",
       "    <tr>\n",
       "      <th>7</th>\n",
       "      <td>Turkey</td>\n",
       "      <td>34</td>\n",
       "    </tr>\n",
       "    <tr>\n",
       "      <th>8</th>\n",
       "      <td>Australia</td>\n",
       "      <td>24</td>\n",
       "    </tr>\n",
       "    <tr>\n",
       "      <th>9</th>\n",
       "      <td>Phillipines</td>\n",
       "      <td>22</td>\n",
       "    </tr>\n",
       "  </tbody>\n",
       "</table>\n",
       "</div>"
      ],
      "text/plain": [
       "          country  count\n",
       "0           India   8652\n",
       "1   United States    434\n",
       "2  United Kingdom     80\n",
       "3          Brazil     60\n",
       "4    South Africa     60\n",
       "5             UAE     60\n",
       "6     New Zealand     40\n",
       "7          Turkey     34\n",
       "8       Australia     24\n",
       "9     Phillipines     22"
      ]
     },
     "execution_count": 278,
     "metadata": {},
     "output_type": "execute_result"
    }
   ],
   "source": [
    "# Top 10 countries that use Zomato\n",
    "country_grp.head(10)"
   ]
  },
  {
   "cell_type": "code",
   "execution_count": 279,
   "id": "e577bf43",
   "metadata": {},
   "outputs": [
    {
     "data": {
      "image/png": "[encoded data removed]",
      "text/plain": [
       "<Figure size 640x480 with 1 Axes>"
      ]
     },
     "metadata": {},
     "output_type": "display_data"
    }
   ],
   "source": [
    "# Top 3 countries which use Zomato \n",
    "plt.pie(\n",
    "    x = country_grp['count'][:3],\n",
    "    labels = country_grp['country'][:3],\n",
    "    explode = [0.1,0,0],\n",
    "    autopct = '%0.2f%%'\n",
    ")\n",
    "plt.title('Top 3 Countries Which Use Zomato', pad = 5)\n",
    "plt.tight_layout()\n",
    "plt.show()"
   ]
  },
  {
   "cell_type": "markdown",
   "id": "b9687176",
   "metadata": {},
   "source": [
    "Observation: \n",
    "- Majority of transactions/records are from India and few in the US"
   ]
  },
  {
   "cell_type": "markdown",
   "id": "6ac78b2f",
   "metadata": {},
   "source": [
    "### 2. How many restaurants offer delivery?"
   ]
  },
  {
   "cell_type": "code",
   "execution_count": 280,
   "id": "adf2d04b",
   "metadata": {},
   "outputs": [
    {
     "data": {
      "image/png": "[encoded data removed]",
      "text/plain": [
       "<Figure size 640x480 with 1 Axes>"
      ]
     },
     "metadata": {},
     "output_type": "display_data"
    }
   ],
   "source": [
    "sns.countplot(data = final_df, x = 'has_online_delivery')\n",
    "plt.xticks(ticks = [False,True], labels=['Doesn\\'t offer', 'Does offer'])\n",
    "plt.xlabel(None)\n",
    "plt.ylabel('Count')\n",
    "plt.title('Amount of restaurants offering online delivery on Zomato', pad =10)\n",
    "plt.show()"
   ]
  },
  {
   "cell_type": "markdown",
   "id": "cfa4fbf5",
   "metadata": {},
   "source": [
    "Observation: \n",
    "- Majority of restaurants do not offer delivery"
   ]
  },
  {
   "cell_type": "markdown",
   "id": "77fd46d1",
   "metadata": {},
   "source": [
    "### 3. What is the average cost, and delivery of cost for two \n",
    "- Issue: Currency is not standardised\n",
    "- Solution: Standardise results to USD; get current exchange rates and create function to convert"
   ]
  },
  {
   "cell_type": "code",
   "execution_count": 297,
   "id": "f05d817b",
   "metadata": {},
   "outputs": [],
   "source": [
    "# See all unique currencies \n",
    "list(final_df['currency'].unique())\n",
    "\n",
    "# Use ChatGPT to generate a mapping (to currency code) for each of these values\n",
    "currency_mapping = {\n",
    "    'Botswana Pula(P)': 'BWP',\n",
    "    'Brazilian Real(R$)': 'BRL',\n",
    "    'Dollar($)': 'USD',\n",
    "    'Emirati Diram(AED)': 'AED',\n",
    "    'Indian Rupees(Rs.)': 'INR',\n",
    "    'Indonesian Rupiah(IDR)': 'IDR',\n",
    "    'NewZealand($)': 'NZD',\n",
    "    'Pounds(\\x8c£)': 'GBP',\n",
    "    'Qatari Rial(QR)': 'QAR',\n",
    "    'Rand(R)': 'ZAR',\n",
    "    'Sri Lankan Rupee(LKR)': 'LKR',\n",
    "    'Turkish Lira(TL)': 'TRY'\n",
    "}\n",
    "# Apply currency mapping \n",
    "final_df['currency_code'] = final_df['currency'].map(currency_mapping)"
   ]
  },
  {
   "cell_type": "code",
   "execution_count": 299,
   "id": "20bc7ad2",
   "metadata": {},
   "outputs": [
    {
     "data": {
      "text/plain": [
       "['BWP',\n",
       " 'BRL',\n",
       " 'USD',\n",
       " 'AED',\n",
       " 'INR',\n",
       " 'IDR',\n",
       " 'NZD',\n",
       " 'GBP',\n",
       " 'QAR',\n",
       " 'ZAR',\n",
       " 'LKR',\n",
       " 'TRY']"
      ]
     },
     "execution_count": 299,
     "metadata": {},
     "output_type": "execute_result"
    }
   ],
   "source": [
    "list(final_df['currency_code'].unique())"
   ]
  },
  {
   "cell_type": "markdown",
   "id": "076b35f7",
   "metadata": {},
   "source": [
    "For this I used an API, you can create your own api key \n",
    "'url = 'https://v6.exchangerate-api.com/v6/YOUR-API-KEY-HERE/latest/USD'"
   ]
  },
  {
   "cell_type": "code",
   "execution_count": 301,
   "id": "58197dc7",
   "metadata": {},
   "outputs": [],
   "source": [
    "import requests"
   ]
  },
  {
   "cell_type": "code",
   "execution_count": 302,
   "id": "c27826e6",
   "metadata": {},
   "outputs": [
    {
     "name": "stdout",
     "output_type": "stream",
     "text": [
      "{'result': 'success', 'documentation': 'https://www.exchangerate-api.com/docs', 'terms_of_use': 'https://www.exchangerate-api.com/terms', 'time_last_update_unix': 1723507201, 'time_last_update_utc': 'Tue, 13 Aug 2024 00:00:01 +0000', 'time_next_update_unix': 1723593601, 'time_next_update_utc': 'Wed, 14 Aug 2024 00:00:01 +0000', 'base_code': 'USD', 'conversion_rates': {'USD': 1, 'AED': 3.6725, 'AFN': 70.8106, 'ALL': 91.5682, 'AMD': 388.3061, 'ANG': 1.79, 'AOA': 888.5234, 'ARS': 939.83, 'AUD': 1.518, 'AWG': 1.79, 'AZN': 1.7005, 'BAM': 1.7897, 'BBD': 2.0, 'BDT': 117.5358, 'BGN': 1.7898, 'BHD': 0.376, 'BIF': 2883.837, 'BMD': 1.0, 'BND': 1.3244, 'BOB': 6.9187, 'BRL': 5.4968, 'BSD': 1.0, 'BTN': 83.9729, 'BWP': 13.5406, 'BYN': 3.2672, 'BZD': 2.0, 'CAD': 1.3737, 'CDF': 2845.4007, 'CHF': 0.8662, 'CLP': 932.4122, 'CNY': 7.1775, 'COP': 4075.5872, 'CRC': 529.3092, 'CUP': 24.0, 'CVE': 100.9003, 'CZK': 23.0374, 'DJF': 177.721, 'DKK': 6.8266, 'DOP': 59.7156, 'DZD': 134.5668, 'EGP': 49.3062, 'ERN': 15.0, 'ETB': 101.7205, 'EUR': 0.915, 'FJD': 2.2439, 'FKP': 0.7832, 'FOK': 6.8268, 'GBP': 0.7832, 'GEL': 2.6932, 'GGP': 0.7832, 'GHS': 15.6803, 'GIP': 0.7832, 'GMD': 69.5373, 'GNF': 8669.9231, 'GTQ': 7.7508, 'GYD': 209.2355, 'HKD': 7.7929, 'HNL': 24.7638, 'HRK': 6.8946, 'HTG': 131.7586, 'HUF': 360.4105, 'IDR': 15961.5482, 'ILS': 3.7791, 'IMP': 0.7832, 'INR': 83.9675, 'IQD': 1311.8925, 'IRR': 42098.6075, 'ISK': 138.3115, 'JEP': 0.7832, 'JMD': 157.0519, 'JOD': 0.709, 'JPY': 147.2188, 'KES': 128.9592, 'KGS': 84.9227, 'KHR': 4077.3903, 'KID': 1.5178, 'KMF': 450.1852, 'KRW': 1369.3936, 'KWD': 0.3062, 'KYD': 0.8333, 'KZT': 479.5257, 'LAK': 22032.6988, 'LBP': 89500.0, 'LKR': 299.4102, 'LRD': 195.4009, 'LSL': 18.2414, 'LYD': 4.8049, 'MAD': 9.8278, 'MDL': 17.6269, 'MGA': 4569.1475, 'MKD': 56.3309, 'MMK': 2095.777, 'MNT': 3351.3519, 'MOP': 8.0268, 'MRU': 39.7697, 'MUR': 46.3112, 'MVR': 15.4347, 'MWK': 1744.6601, 'MXN': 19.0257, 'MYR': 4.4517, 'MZN': 63.9223, 'NAD': 18.2414, 'NGN': 1569.8435, 'NIO': 36.8066, 'NOK': 10.7973, 'NPR': 134.3566, 'NZD': 1.6602, 'OMR': 0.3845, 'PAB': 1.0, 'PEN': 3.7295, 'PGK': 3.8796, 'PHP': 57.2977, 'PKR': 278.6058, 'PLN': 3.9401, 'PYG': 7601.7736, 'QAR': 3.64, 'RON': 4.5554, 'RSD': 107.09, 'RUB': 90.3049, 'RWF': 1324.6411, 'SAR': 3.75, 'SBD': 8.4783, 'SCR': 13.7264, 'SDG': 453.9881, 'SEK': 10.5255, 'SGD': 1.3243, 'SHP': 0.7832, 'SLE': 22.5467, 'SLL': 22546.689, 'SOS': 571.3948, 'SRD': 29.1136, 'SSP': 2521.5812, 'STN': 22.4192, 'SYP': 12881.3617, 'SZL': 18.2414, 'THB': 35.196, 'TJS': 10.6386, 'TMT': 3.5, 'TND': 3.0846, 'TOP': 2.3396, 'TRY': 33.5479, 'TTD': 6.7692, 'TVD': 1.5178, 'TWD': 32.377, 'TZS': 2699.0114, 'UAH': 41.3058, 'UGX': 3730.4291, 'UYU': 40.3259, 'UZS': 12675.8379, 'VES': 36.6305, 'VND': 25141.1608, 'VUV': 118.3492, 'WST': 2.7511, 'XAF': 600.247, 'XCD': 2.7, 'XDR': 0.7495, 'XOF': 600.247, 'XPF': 109.1972, 'YER': 250.2031, 'ZAR': 18.2422, 'ZMW': 26.2003, 'ZWL': 13.7814}}\n"
     ]
    }
   ],
   "source": [
    "# Using ExchangeRate-Api to get current exchange rates where USD is base currency\n",
    "url = 'https://v6.exchangerate-api.com/v6/eaa0fad84b5325872d0abf53/latest/USD'\n",
    "\n",
    "# Making our request\n",
    "response = requests.get(url)\n",
    "exchange_data = response.json()\n",
    "\n",
    "# Your JSON object\n",
    "print(exchange_data)"
   ]
  },
  {
   "cell_type": "code",
   "execution_count": 303,
   "id": "51bebb3f",
   "metadata": {},
   "outputs": [],
   "source": [
    "# Extract conversion rates, gives as dictionary\n",
    "conversion_rates = exchange_data['conversion_rates']"
   ]
  },
  {
   "cell_type": "code",
   "execution_count": 304,
   "id": "62bf23e8",
   "metadata": {},
   "outputs": [],
   "source": [
    "def convert_to_usd(cost,currency,conversion_rates): \n",
    "    '''Takes input of cost for two, currency code for row, and conversion rates \n",
    "    and calculates the cost in USD'''\n",
    "    curr_rate = conversion_rates.get(currency,1) # Find current conversion rate\n",
    "    if cost: \n",
    "        return cost / curr_rate\n",
    "    else:\n",
    "        return np.nan"
   ]
  },
  {
   "cell_type": "code",
   "execution_count": 307,
   "id": "48a34f37",
   "metadata": {},
   "outputs": [],
   "source": [
    "final_df['average_cost_for_two_USD'] = final_df.apply(lambda row: convert_to_usd(\n",
    "    row['average_cost_for_two'],\n",
    "    row['currency_code'],\n",
    "    conversion_rates),\n",
    "    axis = 1\n",
    ")"
   ]
  },
  {
   "cell_type": "code",
   "execution_count": 308,
   "id": "6c096d8f",
   "metadata": {},
   "outputs": [
    {
     "data": {
      "text/plain": [
       "count    9533.000000\n",
       "mean       10.071155\n",
       "std        16.870149\n",
       "min         0.595468\n",
       "25%         3.572811\n",
       "50%         5.954685\n",
       "75%        10.000000\n",
       "max       500.000000\n",
       "Name: average_cost_for_two, dtype: float64"
      ]
     },
     "execution_count": 308,
     "metadata": {},
     "output_type": "execute_result"
    }
   ],
   "source": [
    "final_df['average_cost_for_two_USD'].describe()"
   ]
  },
  {
   "cell_type": "markdown",
   "id": "4141d2a0",
   "metadata": {},
   "source": [
    "Observations: \n",
    "- Average cost in USD for a meal for two is 10 USD, 5 USD per person\n",
    "- The std is quite high at 16 USD; further investigation needed to determine if this is \n",
    "because of location or quality of restaurant or both\n",
    "- The median is low at nearly 6 USD; median being lower than the mean suggests that the average cost may be skewed by large outliers \n",
    "- 75% of cost of meals for two is 10 USD or less; still relatively inexpensive, clear that there must be large outliers at play."
   ]
  },
  {
   "cell_type": "code",
   "execution_count": 329,
   "id": "017fd167",
   "metadata": {},
   "outputs": [
    {
     "data": {
      "image/png": "[encoded data removed]",
      "text/plain": [
       "<Figure size 640x480 with 1 Axes>"
      ]
     },
     "metadata": {},
     "output_type": "display_data"
    }
   ],
   "source": [
    "# Box plot of average cost for two with outliers removed \n",
    "final_df.plot(kind = 'box', y = 'average_cost_for_two_USD', showfliers = False)\n",
    "plt.ylabel('Cost ($USD)')\n",
    "plt.title('Average cost for two at different restaurants on Zomato',pad = 10)\n",
    "plt.tight_layout()\n",
    "plt.show()"
   ]
  },
  {
   "cell_type": "code",
   "execution_count": 334,
   "id": "91676fc9",
   "metadata": {},
   "outputs": [
    {
     "data": {
      "image/png": "[encoded data removed]",
      "text/plain": [
       "<Figure size 640x480 with 1 Axes>"
      ]
     },
     "metadata": {},
     "output_type": "display_data"
    }
   ],
   "source": [
    "sns.violinplot(\n",
    "    data = final_df,\n",
    "    y='average_cost_for_two_USD',\n",
    "    inner = 'quartz', \n",
    "    log_scale= True\n",
    ")\n",
    "plt.ylabel('Log of average cost for two')\n",
    "plt.title('Distribution of average cost for two in restaurants on Zomato', pad = 10)\n",
    "plt.tight_layout()\n",
    "plt.show()"
   ]
  },
  {
   "cell_type": "markdown",
   "id": "c715efd2",
   "metadata": {},
   "source": [
    "Observations: \n",
    "- Reconfirms suspicions that data for average cost for two is being heavily skewed by higher priced outliers"
   ]
  },
  {
   "cell_type": "markdown",
   "id": "689ca835",
   "metadata": {},
   "source": [
    "### 4. What is the average rating of restaurant\n",
    "Issue: Restaurants which are not rated have an aggregate rating of 0, gives the distributions a right skew.\n",
    "Solution: Temporarily remove restaurants which are not rated from the dataset"
   ]
  },
  {
   "cell_type": "code",
   "execution_count": 356,
   "id": "a8cdb5b8",
   "metadata": {},
   "outputs": [],
   "source": [
    "# Only look at restaurants which are rated \n",
    "rated_df = final_df.query(\"rating_text != 'Not rated'\")"
   ]
  },
  {
   "cell_type": "code",
   "execution_count": 357,
   "id": "20b55c6d",
   "metadata": {},
   "outputs": [
    {
     "data": {
      "text/plain": [
       "count    7403.000000\n",
       "mean        3.440024\n",
       "std         0.552195\n",
       "min         1.800000\n",
       "25%         3.000000\n",
       "50%         3.400000\n",
       "75%         3.800000\n",
       "max         4.900000\n",
       "Name: aggregate_rating, dtype: float64"
      ]
     },
     "execution_count": 357,
     "metadata": {},
     "output_type": "execute_result"
    }
   ],
   "source": [
    "# Rating is between 0-5 stars \n",
    "rated_df['aggregate_rating'].describe()"
   ]
  },
  {
   "cell_type": "code",
   "execution_count": 358,
   "id": "65168a7c",
   "metadata": {},
   "outputs": [
    {
     "data": {
      "image/png": "[encoded data removed]",
      "text/plain": [
       "<Figure size 640x480 with 1 Axes>"
      ]
     },
     "metadata": {},
     "output_type": "display_data"
    }
   ],
   "source": [
    "rated_df.plot(kind = 'box', y ='aggregate_rating')\n",
    "plt.ylabel('Aggregate rating')\n",
    "plt.title('Aggregate rating of different restaurants on Zomato',pad = 10)\n",
    "plt.tight_layout()\n",
    "plt.show()"
   ]
  },
  {
   "cell_type": "code",
   "execution_count": 359,
   "id": "3eca8cdf",
   "metadata": {},
   "outputs": [
    {
     "data": {
      "text/plain": [
       "<Axes: xlabel='aggregate_rating', ylabel='Count'>"
      ]
     },
     "execution_count": 359,
     "metadata": {},
     "output_type": "execute_result"
    },
    {
     "data": {
      "image/png": "[encoded data removed]",
      "text/plain": [
       "<Figure size 640x480 with 1 Axes>"
      ]
     },
     "metadata": {},
     "output_type": "display_data"
    }
   ],
   "source": [
    "# Histogram with KDE \n",
    "sns.histplot(data = rated_df, x = 'aggregate_rating', kde = True)"
   ]
  },
  {
   "cell_type": "markdown",
   "id": "4f24d9e4",
   "metadata": {},
   "source": [
    "Observations: \n",
    "- Normal distribution of results, slight right skew\n",
    "- Most restuarants (> 75%) are 3 stars or above \n",
    "- Some low rated outliers\n",
    "- No restaurant has 5 star rating \n",
    "- Fairly large standard deviation of 0.55 "
   ]
  },
  {
   "cell_type": "markdown",
   "id": "810e7942",
   "metadata": {},
   "source": [
    "### Question 5: Most common cuisines\n",
    "Issue: Some restaurants have multiple cuisines\n",
    "Solution: need to extract each one and create a tally"
   ]
  },
  {
   "cell_type": "markdown",
   "id": "365142ed",
   "metadata": {},
   "source": [
    "## Bivariate & Multivariate Analysis\n",
    "Questions: \n",
    "1. Correlation between rating and average cost for two / price range\n",
    "        Does average rating increase when number of votes increases?\n",
    "2. Correlation between rating and country or rating and city (for India)\n",
    "3. Cities with the most and highest rated restaurants\n",
    "4. Top rated cuisines \n",
    "3. Comparasion between restaurants that deliver vs not and rating \n",
    "\n",
    "India or city Specific \n",
    "1. Heatmap of where best rated restaurants are / best areas "
   ]
  },
  {
   "cell_type": "code",
   "execution_count": null,
   "id": "2d344a47",
   "metadata": {},
   "outputs": [],
   "source": []
  }
 ],
 "metadata": {
  "kernelspec": {
   "display_name": "Python 3 (ipykernel)",
   "language": "python",
   "name": "python3"
  },
  "language_info": {
   "codemirror_mode": {
    "name": "ipython",
    "version": 3
   },
   "file_extension": ".py",
   "mimetype": "text/x-python",
   "name": "python",
   "nbconvert_exporter": "python",
   "pygments_lexer": "ipython3",
   "version": "3.11.7"
  }
 },
 "nbformat": 4,
 "nbformat_minor": 5
}
